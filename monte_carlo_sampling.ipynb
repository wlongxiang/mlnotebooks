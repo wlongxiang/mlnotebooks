{
 "cells": [
  {
   "cell_type": "markdown",
   "metadata": {},
   "source": [
    "# Introduction\n",
    "\n",
    "Sampling is an important technique in Machine Learning."
   ]
  },
  {
   "cell_type": "markdown",
   "metadata": {},
   "source": [
    "# The law of unconscious statistican\n",
    "\n",
    "First, let's review how we calculate the expectation of a random variable $x$.\n",
    "\n",
    "For a continuous variable, it is calculated by:\n",
    "$\\mathbb{E}[x] = \\int xp(x)dx$\n",
    "\n",
    "For a discrete variable:\n",
    "$\\mathbb{E}[x] = \\sum xp(x)$\n",
    "\n",
    "Now we have $y=f(x)$, y represents a transformation of the random variable x, and y is also a random variable, but y **does not** have the same distribution of x.\n",
    "\n",
    "The question is: **what is the expection of y?**\n",
    "\n",
    "Method 1: **substition**\n",
    "\n",
    "We can substitute y into first equation, $\\mathbb{E}[y] = \\int yp(y)dy$.\n",
    "\n",
    "This requires us to derive the distribution of y or $f(x)$, which is possible if the transformation is simple and easy to calculate.\n",
    "\n",
    "\n",
    "\n",
    "Method 2: **The law of unconscious stasitican**\n",
    "\n",
    "This law states that, you don't need to explicitly calculate the distribution of $f(x)$, you only need to sample from the original random variable x.\n",
    "\n",
    "\n",
    "$\\mathbb{E}[f(x)] = \\int f(x)p(x)dx$\n",
    "\n",
    "Or in discrete form:\n",
    "\n",
    "$\\mathbb{E}[f(x)] = \\sum f(x)p(x)$\n",
    "\n",
    "\n",
    "More generally, for calculating any integral:\n",
    "\n",
    "$F = \\int f(x)dx$\n",
    "\n",
    "We can estimate F by:\n",
    "\n",
    "$\\hat{F}_n =\\frac{1}{n}\\sum_n \\frac{f(x_i)}{p(x_i)}$, where $x_i \\sim p(x)$\n",
    "\n",
    "**This means we can estimate any integral by sampling from any distribution p(x) of x**.\n",
    "\n",
    "\n",
    "\n",
    "Reference:\n",
    "\n",
    "1. [Mathematical Foundations of Monte Carlo Methods\n",
    "](https://www.scratchapixel.com/lessons/mathematics-physics-for-computer-graphics/monte-carlo-methods-mathematical-foundations/expected-value-of-the-function-of-a-random-variable)\n",
    "2. [Monte Carlo Methods in Practice\n",
    "](https://www.scratchapixel.com/lessons/mathematics-physics-for-computer-graphics/monte-carlo-methods-in-practice/monte-carlo-integration)\n",
    "3. [UvA deep learning course slide](https://uvadlc.github.io/lectures/nov2019/lecture9.pdf)\n"
   ]
  },
  {
   "cell_type": "markdown",
   "metadata": {},
   "source": [
    "## Example"
   ]
  },
  {
   "cell_type": "code",
   "execution_count": 219,
   "metadata": {},
   "outputs": [
    {
     "name": "stdout",
     "output_type": "stream",
     "text": [
      "170.33333333333331\n"
     ]
    }
   ],
   "source": [
    "import scipy.integrate as integrate\n",
    "import numpy as np\n",
    "\n",
    "# quad means quadrature calculating area, aka integral for historical reasons\n",
    "\n",
    "# lets calcuate integal of f(x^2) from [0, 4], which is 8.\n",
    "\n",
    "upper_bound = 8\n",
    "lower_bound = 1\n",
    "def f(x):\n",
    "    return x**2\n",
    "\n",
    "res = integrate.quad(f, lower_bound, upper_bound)\n",
    "# if we solve it analytically, we have x^3/3, expected result is 8/3\n",
    "print(res[0])"
   ]
  },
  {
   "cell_type": "code",
   "execution_count": 215,
   "metadata": {},
   "outputs": [],
   "source": [
    "import matplotlib.pyplot as plt"
   ]
  },
  {
   "cell_type": "code",
   "execution_count": 220,
   "metadata": {},
   "outputs": [
    {
     "name": "stdout",
     "output_type": "stream",
     "text": [
      "184.625\n",
      "176.6851851851852\n",
      "170.91077441077442\n",
      "170.6206030150754\n",
      "170.44789579158316\n",
      "170.41511683357177\n",
      "170.39055722389057\n"
     ]
    },
    {
     "data": {
      "image/png": "[encoded data removed]",
      "text/plain": [
       "<Figure size 432x288 with 1 Axes>"
      ]
     },
     "metadata": {
      "needs_background": "light"
     },
     "output_type": "display_data"
    }
   ],
   "source": [
    "\n",
    "# monte carlo\n",
    "# suppose p(x) = 1/2, i.e. p(x) is a uniform distribution for x in [0, 2]\n",
    "ns = [5, 10, 100, 200, 500, 700, 1000]\n",
    "f_hats = []\n",
    "for n in ns:\n",
    "    samples = np.linspace(lower_bound, upper_bound, n)\n",
    "\n",
    "    all_sum = []\n",
    "    for xi in samples:\n",
    "        all_sum.append(f(xi) / (1/(upper_bound-lower_bound)))\n",
    "    f_hat = np.sum(all_sum)/ n\n",
    "    print(f_hat)\n",
    "\n",
    "    f_hats.append(f_hat)\n",
    "plt.plot(ns, f_hats);"
   ]
  },
  {
   "cell_type": "markdown",
   "metadata": {},
   "source": [
    "As we can see, the estimation is getting more and more accurate when n increases"
   ]
  },
  {
   "cell_type": "markdown",
   "metadata": {},
   "source": [
    "One might ask, how about a different distribution of $p(x)$? Let's try a normal distribution."
   ]
  },
  {
   "cell_type": "code",
   "execution_count": 221,
   "metadata": {},
   "outputs": [
    {
     "data": {
      "text/plain": [
       "[<matplotlib.lines.Line2D at 0x12924c650>]"
      ]
     },
     "execution_count": 221,
     "metadata": {},
     "output_type": "execute_result"
    },
    {
     "data": {
      "image/png": "[encoded data removed]",
      "text/plain": [
       "<Figure size 432x288 with 1 Axes>"
      ]
     },
     "metadata": {
      "needs_background": "light"
     },
     "output_type": "display_data"
    }
   ],
   "source": [
    "# monte carlo\n",
    "# suppose p(x) is a truncated normal distribution for x in [0, 2]\n",
    "from scipy.stats import truncnorm\n",
    "from scipy.stats import norm\n",
    "\n",
    "def get_truncated_normal(mean=0, sd=1, low=0, upp=10):\n",
    "    return truncnorm(\n",
    "        (low - mean) / sd, (upp - mean) / sd, loc=mean, scale=sd)\n",
    "# be a bit careful with setting the mean and sd, \n",
    "# extreme values might cause numerical unstability, cause off estimations\n",
    "trunc_norm = get_truncated_normal(mean=lower_bound, sd=upper_bound, low=lower_bound, upp=upper_bound)\n",
    "# how does the truncate norm look like?\n",
    "xx = np.linspace(lower_bound-1, upper_bound+1, 10000)\n",
    "yy = trunc_norm.pdf(xx)\n",
    "plt.plot(xx, yy)"
   ]
  },
  {
   "cell_type": "code",
   "execution_count": 222,
   "metadata": {},
   "outputs": [
    {
     "name": "stdout",
     "output_type": "stream",
     "text": [
      "150.05717363816441\n",
      "171.3243051305737\n",
      "171.6596343793269\n",
      "173.7753948335888\n",
      "169.95192639233971\n",
      "170.44640597063957\n",
      "169.99766353683617\n"
     ]
    },
    {
     "data": {
      "image/png": "[encoded data removed]",
      "text/plain": [
       "<Figure size 432x288 with 1 Axes>"
      ]
     },
     "metadata": {
      "needs_background": "light"
     },
     "output_type": "display_data"
    }
   ],
   "source": [
    "ns = [100, 500, 2000,  5000, 10000, 50000, 80000]\n",
    "f_hats = []\n",
    "\n",
    "for n in ns:\n",
    "    # draw samples\n",
    "    samples = trunc_norm.rvs(n)\n",
    "    all_sum = []\n",
    "    \n",
    "    for xi in samples:\n",
    "        all_sum.append(f(xi) / trunc_norm.pdf(xi) )\n",
    "    f_hat = np.sum(all_sum)/ n\n",
    "    print(f_hat)\n",
    "    f_hats.append(f_hat)\n",
    "plt.plot(ns, f_hats);"
   ]
  }
 ],
 "metadata": {
  "kernelspec": {
   "display_name": "Python 3",
   "language": "python",
   "name": "python3"
  },
  "language_info": {
   "codemirror_mode": {
    "name": "ipython",
    "version": 3
   },
   "file_extension": ".py",
   "mimetype": "text/x-python",
   "name": "python",
   "nbconvert_exporter": "python",
   "pygments_lexer": "ipython3",
   "version": "3.7.7"
  },
  "toc": {
   "base_numbering": 1,
   "nav_menu": {
    "height": "183px",
    "width": "196px"
   },
   "number_sections": true,
   "sideBar": true,
   "skip_h1_title": false,
   "title_cell": "Table of Contents",
   "title_sidebar": "Contents",
   "toc_cell": false,
   "toc_position": {
    "height": "calc(100% - 180px)",
    "left": "10px",
    "top": "150px",
    "width": "256px"
   },
   "toc_section_display": true,
   "toc_window_display": true
  },
  "varInspector": {
   "cols": {
    "lenName": 16,
    "lenType": 16,
    "lenVar": 40
   },
   "kernels_config": {
    "python": {
     "delete_cmd_postfix": "",
     "delete_cmd_prefix": "del ",
     "library": "var_list.py",
     "varRefreshCmd": "print(var_dic_list())"
    },
    "r": {
     "delete_cmd_postfix": ") ",
     "delete_cmd_prefix": "rm(",
     "library": "var_list.r",
     "varRefreshCmd": "cat(var_dic_list()) "
    }
   },
   "types_to_exclude": [
    "module",
    "function",
    "builtin_function_or_method",
    "instance",
    "_Feature"
   ],
   "window_display": false
  }
 },
 "nbformat": 4,
 "nbformat_minor": 4
}
